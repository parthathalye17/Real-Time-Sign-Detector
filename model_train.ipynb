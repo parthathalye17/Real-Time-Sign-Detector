{
 "cells": [
  {
   "cell_type": "code",
   "execution_count": 17,
   "metadata": {},
   "outputs": [
    {
     "name": "stdout",
     "output_type": "stream",
     "text": [
      "100.0% of samples were classified correctly !\n"
     ]
    }
   ],
   "source": [
    "import numpy as np\n",
    "import pickle\n",
    "from sklearn.ensemble import RandomForestClassifier\n",
    "from sklearn.model_selection import train_test_split\n",
    "from sklearn.metrics import accuracy_score\n",
    "from sklearn.preprocessing import LabelEncoder\n",
    "from tensorflow.keras.preprocessing.sequence import pad_sequences\n",
    "\n",
    "data_dict1 = pickle.load(open('C:/Users/PARTH ATHALYE/Desktop/SignToText/data.pickle', 'rb'))\n",
    "\n",
    "data = data_dict1['data']  # Assuming data is a list of lists\n",
    "labels = data_dict1['labels']\n",
    "\n",
    "# Use LabelEncoder to convert labels to numerical format\n",
    "label_encoder = LabelEncoder()\n",
    "labels_encoded = label_encoder.fit_transform(labels)\n",
    "\n",
    "# Pad sequences to a consistent shape\n",
    "max_sequence_length = max(len(seq) for seq in data)\n",
    "data_padded = pad_sequences(data, maxlen=max_sequence_length, padding='post', dtype='float32')\n",
    "\n",
    "# Ensure that x_train and x_test have the same number of features\n",
    "x_train, x_test, y_train, y_test = train_test_split(data_padded, labels_encoded, test_size=0.2, shuffle=True, stratify=labels_encoded)\n",
    "\n",
    "model = RandomForestClassifier()\n",
    "model.fit(x_train, y_train)\n",
    "\n",
    "y_predict = model.predict(x_test)\n",
    "y_test_decoded = label_encoder.inverse_transform(y_test)  # Decode the labels back to their original format\n",
    "y_predict_decoded = label_encoder.inverse_transform(y_predict)  # Decode the predicted labels\n",
    "score = accuracy_score(y_test, y_predict)\n",
    "print('{}% of samples were classified correctly !'.format(score * 100))\n",
    "\n",
    "f = open('model.p', 'wb')\n",
    "pickle.dump({'model': model, 'label_encoder': label_encoder}, f)\n",
    "f.close()\n"
   ]
  }
 ],
 "metadata": {
  "kernelspec": {
   "display_name": "Python 3",
   "language": "python",
   "name": "python3"
  },
  "language_info": {
   "codemirror_mode": {
    "name": "ipython",
    "version": 3
   },
   "file_extension": ".py",
   "mimetype": "text/x-python",
   "name": "python",
   "nbconvert_exporter": "python",
   "pygments_lexer": "ipython3",
   "version": "3.9.13"
  }
 },
 "nbformat": 4,
 "nbformat_minor": 2
}
